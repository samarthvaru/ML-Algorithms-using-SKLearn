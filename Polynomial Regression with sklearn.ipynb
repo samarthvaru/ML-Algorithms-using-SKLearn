{
 "cells": [
  {
   "cell_type": "code",
   "execution_count": 167,
   "metadata": {},
   "outputs": [
    {
     "name": "stdout",
     "output_type": "stream",
     "text": [
      "[-0.37441307]\n"
     ]
    }
   ],
   "source": [
    "from sklearn.preprocessing import PolynomialFeatures\n",
    "from sklearn import linear_model\n",
    "import numpy as np\n",
    "X = np.matrix([[1,1],[1,2],[1,3],[1,4],[1,5]])\n",
    "vector = [5,7,10,12,20]\n",
    "predict= [[0.49, 0.18]]\n",
    "deg = 3\n",
    "poly = PolynomialFeatures(degree=deg)\n",
    "X_ = poly.fit_transform(X)\n",
    "predict_ = poly.fit_transform(predict)\n",
    "\n",
    "clf = linear_model.LinearRegression()\n",
    "clf.fit(X_, vector)\n",
    "print (clf.predict(predict_))"
   ]
  },
  {
   "cell_type": "code",
   "execution_count": 168,
   "metadata": {},
   "outputs": [],
   "source": [
    "B = np.matrix(clf.coef_)"
   ]
  },
  {
   "cell_type": "code",
   "execution_count": 169,
   "metadata": {
    "scrolled": false
   },
   "outputs": [],
   "source": [
    "XX = X_[:,-7:]"
   ]
  },
  {
   "cell_type": "code",
   "execution_count": 170,
   "metadata": {},
   "outputs": [],
   "source": [
    "B = B.reshape(-1,1)"
   ]
  },
  {
   "cell_type": "code",
   "execution_count": 171,
   "metadata": {},
   "outputs": [
    {
     "data": {
      "text/plain": [
       "matrix([[-3.85524945e-14],\n",
       "        [ 6.43929354e-15],\n",
       "        [ 2.87301587e+00],\n",
       "        [ 0.00000000e+00],\n",
       "        [ 2.87301587e+00],\n",
       "        [-1.48214286e+00],\n",
       "        [ 0.00000000e+00],\n",
       "        [ 2.87301587e+00],\n",
       "        [-1.48214286e+00],\n",
       "        [ 4.16666667e-01]])"
      ]
     },
     "execution_count": 171,
     "metadata": {},
     "output_type": "execute_result"
    }
   ],
   "source": [
    "B"
   ]
  },
  {
   "cell_type": "code",
   "execution_count": 172,
   "metadata": {
    "scrolled": true
   },
   "outputs": [],
   "source": [
    "import matplotlib.pyplot as plt"
   ]
  },
  {
   "cell_type": "code",
   "execution_count": 173,
   "metadata": {},
   "outputs": [
    {
     "data": {
      "text/plain": [
       "array([[  1.,   1.,   1.,   1.,   1.,   1.,   1.,   1.,   1.,   1.],\n",
       "       [  1.,   1.,   2.,   1.,   2.,   4.,   1.,   2.,   4.,   8.],\n",
       "       [  1.,   1.,   3.,   1.,   3.,   9.,   1.,   3.,   9.,  27.],\n",
       "       [  1.,   1.,   4.,   1.,   4.,  16.,   1.,   4.,  16.,  64.],\n",
       "       [  1.,   1.,   5.,   1.,   5.,  25.,   1.,   5.,  25., 125.]])"
      ]
     },
     "execution_count": 173,
     "metadata": {},
     "output_type": "execute_result"
    }
   ],
   "source": [
    "X_"
   ]
  },
  {
   "cell_type": "code",
   "execution_count": 174,
   "metadata": {},
   "outputs": [],
   "source": [
    "xplt = X_[:,-deg-1:]"
   ]
  },
  {
   "cell_type": "code",
   "execution_count": 175,
   "metadata": {},
   "outputs": [
    {
     "data": {
      "text/plain": [
       "array([[  1.,   1.,   1.,   1.],\n",
       "       [  1.,   2.,   4.,   8.],\n",
       "       [  1.,   3.,   9.,  27.],\n",
       "       [  1.,   4.,  16.,  64.],\n",
       "       [  1.,   5.,  25., 125.]])"
      ]
     },
     "execution_count": 175,
     "metadata": {},
     "output_type": "execute_result"
    }
   ],
   "source": [
    "X_[:,-deg-1:]"
   ]
  },
  {
   "cell_type": "code",
   "execution_count": 176,
   "metadata": {},
   "outputs": [],
   "source": [
    "coef = clf.coef_[-deg-1:]"
   ]
  },
  {
   "cell_type": "code",
   "execution_count": 177,
   "metadata": {},
   "outputs": [
    {
     "data": {
      "text/plain": [
       "array([ 1.80753968,  3.15079365,  6.5297619 , 14.44444444, 29.39484127])"
      ]
     },
     "execution_count": 177,
     "metadata": {},
     "output_type": "execute_result"
    }
   ],
   "source": [
    "np.sum(xplt*coef,1)"
   ]
  },
  {
   "cell_type": "code",
   "execution_count": 178,
   "metadata": {},
   "outputs": [
    {
     "data": {
      "text/plain": [
       "array([1, 2, 3, 4, 5])"
      ]
     },
     "execution_count": 178,
     "metadata": {},
     "output_type": "execute_result"
    }
   ],
   "source": [
    "np.squeeze(np.array(X[:,1]))"
   ]
  },
  {
   "cell_type": "code",
   "execution_count": 179,
   "metadata": {
    "scrolled": false
   },
   "outputs": [
    {
     "data": {
      "text/plain": [
       "[<matplotlib.lines.Line2D at 0x18a982b1fd0>]"
      ]
     },
     "execution_count": 179,
     "metadata": {},
     "output_type": "execute_result"
    },
    {
     "data": {
      "image/png": "[encoded data removed]",
      "text/plain": [
       "<Figure size 432x288 with 1 Axes>"
      ]
     },
     "metadata": {
      "needs_background": "light"
     },
     "output_type": "display_data"
    }
   ],
   "source": [
    "plt.scatter(np.squeeze(np.array(X[:,1])),vector)\n",
    "plt.plot(np.squeeze(np.array(X[:,1])),np.sum(xplt*coef,1))"
   ]
  },
  {
   "cell_type": "code",
   "execution_count": 183,
   "metadata": {},
   "outputs": [],
   "source": [
    "from sklearn.datasets import load_boston\n",
    "from sklearn.preprocessing import StandardScaler\n",
    "import pandas as pd"
   ]
  },
  {
   "cell_type": "code",
   "execution_count": 184,
   "metadata": {},
   "outputs": [],
   "source": [
    "data = load_boston()"
   ]
  },
  {
   "cell_type": "code",
   "execution_count": 185,
   "metadata": {},
   "outputs": [],
   "source": [
    "df = pd.DataFrame(data['data'],columns=data['feature_names'])\n",
    "df.drop(['CHAS'],1,inplace=True) #dont need categorical data"
   ]
  },
  {
   "cell_type": "code",
   "execution_count": 186,
   "metadata": {},
   "outputs": [],
   "source": [
    "X = np.array(df.values.tolist())\n",
    "y = np.array(data['target'])"
   ]
  },
  {
   "cell_type": "code",
   "execution_count": 187,
   "metadata": {},
   "outputs": [],
   "source": [
    "scaler = StandardScaler()\n",
    "scaler.fit(X)\n",
    "scaled_X = scaler.transform(X)"
   ]
  },
  {
   "cell_type": "code",
   "execution_count": 188,
   "metadata": {},
   "outputs": [
    {
     "data": {
      "text/plain": [
       "LinearRegression(copy_X=True, fit_intercept=True, n_jobs=None,\n",
       "         normalize=False)"
      ]
     },
     "execution_count": 188,
     "metadata": {},
     "output_type": "execute_result"
    }
   ],
   "source": [
    "deg = 3\n",
    "poly = PolynomialFeatures(degree=deg)\n",
    "X_ = poly.fit_transform(scaled_X)\n",
    "\n",
    "clf = linear_model.LinearRegression()\n",
    "clf.fit(X_, y)"
   ]
  },
  {
   "cell_type": "code",
   "execution_count": 189,
   "metadata": {},
   "outputs": [
    {
     "data": {
      "text/plain": [
       "array([ 2.68152769e+04, -1.68408240e+04, -1.33666458e+04,  4.06020273e+04,\n",
       "       -2.38014240e+04,  1.67165670e+01, -1.22562146e+02, -3.07047183e+02,\n",
       "        3.34884994e+04, -6.40946544e+04,  2.80037540e+02,  9.87871208e+02,\n",
       "        1.13263533e+02, -1.73702272e+04, -2.63355584e+04,  7.82195455e+03,\n",
       "       -2.13112125e+03,  9.20809609e+01, -3.13607040e+02, -1.62688800e+02,\n",
       "        1.11393631e+04, -1.80548011e+04,  2.63955099e+03,  1.22145159e+03,\n",
       "        1.26557946e+02,  1.02410878e+03,  4.34682608e+03,  3.20055441e+03,\n",
       "        3.52205809e+01, -1.96711774e+02, -5.96234802e+02, -1.67667344e+04,\n",
       "       -1.07096956e+04, -3.04633921e+03,  1.36397373e+03,  2.19774438e+02,\n",
       "        5.87783480e+04, -6.87360409e+04, -1.49908980e+02,  1.35032534e+02,\n",
       "        1.68094423e+01,  7.97127224e+04, -2.92936361e+04,  4.01113877e+03,\n",
       "       -1.48781903e+03, -1.75775447e+02,  7.58074237e+03,  4.07568760e+00,\n",
       "        3.06402399e+00, -2.65325482e+01, -3.64042815e+04,  4.01104110e+04,\n",
       "       -2.45250318e+03, -5.25565583e+01,  5.31090501e+01, -3.29998944e+00,\n",
       "        8.17707473e+00, -1.17473752e+01, -1.71625650e+02,  2.25043626e+02,\n",
       "        3.39766273e+01,  5.45451690e+00, -2.32761817e+01,  3.14854980e+00,\n",
       "        1.54416974e+01,  2.09732964e+02, -2.63560308e+02,  1.22970405e+00,\n",
       "        3.58530046e+01,  9.12929025e+00,  2.64632293e+01, -2.70141483e+02,\n",
       "       -4.53799753e+01, -1.74318824e+01, -9.98026600e+01,  1.12250691e+01,\n",
       "        1.35122090e+05, -1.55384678e+05,  4.66566984e+03, -2.06680945e+03,\n",
       "       -1.74207416e+02, -2.56189667e+04, -1.40369548e+04,  3.58549250e+03,\n",
       "        2.82233478e+02,  2.35414620e+03, -5.63861938e+02,  9.04513151e+00,\n",
       "       -4.48348409e+02, -9.77364997e+01, -2.15013695e+01, -1.00416050e-01,\n",
       "       -2.82590586e+04,  1.11939671e+04, -4.12744290e+00, -4.53454792e-01,\n",
       "       -3.28483288e-01,  1.30295857e+00,  1.69653864e+04, -2.38034113e+04,\n",
       "        5.94404793e+02,  1.51379368e-01,  2.92986253e-01,  2.03535490e+02,\n",
       "        7.84624086e+02, -3.90140371e+03,  2.39232343e+02, -4.82385549e+02,\n",
       "       -2.27112998e+02, -4.57479095e+03,  3.81511161e+03,  9.68518339e+02,\n",
       "        7.30515143e+02,  2.39196288e+02, -1.47889659e+03,  5.89030637e+02,\n",
       "       -7.89767255e+01,  3.41059483e+02, -1.35301364e+02, -6.49487953e+03,\n",
       "        2.97487538e+03,  1.55466297e+03, -4.71897136e+03, -3.26838970e+02,\n",
       "       -5.06241203e-01, -1.09905351e+01,  1.90232634e+01,  2.78754535e+01,\n",
       "        9.23871038e+02, -1.24535274e+03,  1.97098063e+01, -1.85423811e+00,\n",
       "       -2.16248690e+00,  1.09673461e-01, -5.03109562e-01, -7.10120459e+00,\n",
       "       -1.98383920e+02,  2.34720900e+02,  1.02039695e+02,  2.15595520e-01,\n",
       "       -6.47562654e-01,  1.66350616e+00,  3.10089803e+01,  5.47448264e+02,\n",
       "       -7.90706722e+02,  4.63569192e+01, -3.51801100e-01,  3.45710838e+00,\n",
       "        5.36982296e+01, -1.99823803e+02,  4.17193894e+02, -8.91213581e+01,\n",
       "        5.88774441e+00,  7.13168383e-01, -5.35192208e+03,  1.07712183e+04,\n",
       "        3.93773747e+03, -6.22266068e+03, -4.11730154e+02, -3.27581016e+03,\n",
       "       -1.39230200e+03,  9.97710360e+03,  6.18370603e+02,  1.54130544e+03,\n",
       "       -1.24322822e+03,  8.60758896e+01, -4.80079409e-01,  8.92491099e-01,\n",
       "       -3.66059106e+00, -3.93836495e+01,  3.68472958e+03, -2.10935766e+03,\n",
       "       -3.50458552e+00,  3.13852426e+00, -6.62508718e+00, -6.62382574e+02,\n",
       "       -6.66918321e+02, -1.37861379e+03,  4.75003935e+01,  3.76482291e+00,\n",
       "        1.44458706e+03,  1.11464270e+04, -1.61264131e+01, -1.01719401e+01,\n",
       "       -3.62567078e+02, -3.83601725e+03, -3.13238537e+03,  3.06470853e+03,\n",
       "        1.90345075e+02, -2.46822161e+01,  5.25870105e+03,  3.54132560e+01,\n",
       "        2.08571208e+00, -1.77374882e+01, -2.90887555e+04, -6.11731793e+03,\n",
       "       -1.05464024e+04, -8.34768933e+01,  1.13766578e+02, -1.40419169e+01,\n",
       "        1.14014487e+01, -9.56090278e+00, -3.96035834e+01, -2.62306161e+01,\n",
       "       -3.41768155e+01,  6.48907435e+01, -4.95892744e+01, -8.25613201e-01,\n",
       "       -2.00886105e+00,  1.54461836e+01,  2.95521641e+01,  1.10338730e+01,\n",
       "        8.61663108e+01,  2.01857128e+01,  2.21154667e+01, -5.64430143e+02,\n",
       "        2.76230944e+01,  9.64333518e+01, -1.75586267e+02,  1.02209135e+01,\n",
       "        2.63616126e+04, -1.77843615e+04,  7.40364414e+02,  2.36326618e+02,\n",
       "        1.02723644e+01,  6.85733706e+03,  1.83918754e+03,  6.80452433e+01,\n",
       "       -3.90084998e+01, -2.53847044e+03,  5.18965975e+01, -2.71950336e+01,\n",
       "       -9.95230458e+02, -2.02772894e+02, -4.05341079e+01, -4.54143259e+03,\n",
       "        1.68422993e+04,  2.12996367e+01, -5.95774380e+00, -5.07997986e+01,\n",
       "        9.12389823e+04, -1.00182612e+04,  8.66352133e+03,  1.02204537e+01,\n",
       "        2.86105120e+00, -6.25961588e+03,  1.16407392e+01, -4.00849226e+00,\n",
       "       -9.28209486e+01, -1.19814983e+05, -2.63841865e+03, -7.72273007e+03,\n",
       "        3.94668881e+01,  2.50207088e+01, -3.92488153e+00, -1.01757896e+01,\n",
       "        6.17571643e+00, -1.29891377e+02, -9.86557667e+00, -3.15177876e+01,\n",
       "        1.13702109e+02, -7.56219447e+00,  4.39856400e+00,  9.03772200e+00,\n",
       "        4.66506498e+01, -2.18768721e+01,  1.08161534e+01,  2.86100238e+01,\n",
       "       -1.42705910e+01, -1.76345862e+01,  5.37887177e+02, -4.27639558e+01,\n",
       "        7.23143340e+01, -1.55272925e+01,  1.74347112e+01,  1.28031165e+04,\n",
       "       -1.75194366e+04,  1.82250900e+04,  4.91854273e+02, -1.14405699e+02,\n",
       "        4.96419890e+03, -1.02605787e+04, -1.19500566e+02,  4.63608701e+01,\n",
       "       -4.07370662e+03,  1.84392719e+01, -5.24151590e+01, -6.97939277e+01,\n",
       "        1.40704817e+01,  7.78166290e+00, -5.36120577e+00,  4.38289145e+00,\n",
       "        1.44680617e+00, -1.44712903e+01, -2.33155606e+03,  2.90263012e+03,\n",
       "        9.75917524e+02,  2.22614965e+00, -3.10023919e-01,  2.22663288e-01,\n",
       "       -1.42564995e+00, -1.47426926e+01,  1.40882880e+01, -3.37844585e+01,\n",
       "        1.86750191e+01,  6.37956468e-01,  6.27086151e+00,  7.36566095e+00,\n",
       "        2.25612317e+01, -1.39942933e+00,  7.89989814e+00, -5.05278225e+00,\n",
       "        1.27256851e+00, -1.68919697e+01, -2.44696973e+01, -7.99069260e+01,\n",
       "        1.67650856e+02, -1.95959880e+00,  9.24007975e+00, -3.20206474e+01,\n",
       "        9.68359972e+04, -3.12950057e+04, -1.23210211e+04,  4.72745617e+01,\n",
       "        1.49016375e+01,  4.03127913e+04,  1.86677728e+03, -7.76903864e+01,\n",
       "       -5.10623871e+01, -4.11882643e+03,  1.28883587e+01,  2.68881948e+01,\n",
       "       -3.43080337e-01,  4.13307858e+00,  4.12012258e+00, -1.71901630e-01,\n",
       "       -7.48475853e-01,  3.80184517e+00, -2.22081858e+00,  6.71839480e+00,\n",
       "       -3.19081940e+00, -2.64561452e-01,  2.55677645e-01, -1.39482041e+00,\n",
       "        1.71641375e+00, -1.10101687e+01,  1.75555283e+01, -3.39639146e-01,\n",
       "       -2.95773982e+00,  1.83691402e+00,  4.31889044e+00,  2.06981073e+01,\n",
       "       -1.26781353e+01,  8.53105573e+00, -2.66500403e+00,  8.76376608e+00,\n",
       "       -5.76490617e+01,  1.59963701e+02,  2.21710747e+01,  1.33066924e+02,\n",
       "       -5.72844057e+00, -2.25912659e+01,  2.38967391e+01, -2.18557693e+02,\n",
       "        1.56041224e+01, -1.24717354e+01,  2.95818565e+01, -7.76414864e+00,\n",
       "        1.43409818e-02, -6.58072477e-02, -5.03403881e-01,  2.95821964e+00,\n",
       "        1.05427779e+01,  5.48508524e+00, -1.09843051e+01, -2.87789205e+00,\n",
       "        2.83897051e+00, -4.67227806e+00,  9.10297894e+00,  1.63635104e+01,\n",
       "       -3.54078032e+01, -4.16505949e+00, -3.13298756e+00, -1.44787000e+01,\n",
       "       -8.47220646e+01,  8.10771526e+01, -1.50807841e+01,  2.05876579e+01,\n",
       "       -2.51360250e+01, -7.06850522e+00, -1.58646812e+01, -4.68770488e+01,\n",
       "        4.38856832e+01,  7.64488966e+00,  5.71406932e+00, -3.07508322e-01,\n",
       "       -9.21351824e-01, -2.64406396e+00,  2.63788884e+00, -1.73959896e-01,\n",
       "        4.45740666e+01, -1.99345464e+01,  1.50286521e+01, -1.32306421e+01,\n",
       "       -4.67387755e+00,  2.58816579e+02, -6.28567805e+02, -9.33718177e+01,\n",
       "        1.20116271e+02, -2.13623907e+00,  5.80338415e+01, -2.09411441e+01,\n",
       "       -1.02054882e+02,  1.99719294e+01,  2.13962536e+01, -3.26034649e+01,\n",
       "        2.20235878e+00,  3.04028127e+00, -8.86020674e+00,  6.97249955e+00,\n",
       "        5.22277403e+04, -3.32196647e+04, -1.09134087e+04,  4.13971278e+02,\n",
       "        1.64455751e+01, -7.21272164e+04, -3.04848164e+03, -6.60863040e+02,\n",
       "        6.91500920e+01,  7.00847991e+03, -2.19397312e+02, -3.31726793e+01,\n",
       "        2.17396545e+01,  3.26949452e+01,  9.45820286e+00, -2.05151484e+03,\n",
       "       -2.86051178e+03,  7.80134574e+01, -1.93849139e+01,  3.77287816e+03,\n",
       "       -6.46251519e+01,  3.24169114e+01,  1.96438836e+01, -5.29791739e+01,\n",
       "       -1.29886126e+01, -8.93589541e+02,  8.40025345e-01, -1.93164633e+01,\n",
       "       -3.62118510e+01,  8.78643402e+00, -2.55991472e+00,  1.10647584e-01,\n",
       "        1.70770560e+00, -3.73888893e-01,  9.17152160e-01])"
      ]
     },
     "execution_count": 189,
     "metadata": {},
     "output_type": "execute_result"
    }
   ],
   "source": [
    "clf.coef_"
   ]
  },
  {
   "cell_type": "code",
   "execution_count": 190,
   "metadata": {},
   "outputs": [],
   "source": [
    "y_pred = clf.predict(X_)"
   ]
  },
  {
   "cell_type": "code",
   "execution_count": 203,
   "metadata": {},
   "outputs": [],
   "source": [
    "from sklearn.metrics import mean_squared_error, r2_score"
   ]
  },
  {
   "cell_type": "code",
   "execution_count": 204,
   "metadata": {},
   "outputs": [],
   "source": [
    "mse = mean_squared_error(y,y_pred)"
   ]
  },
  {
   "cell_type": "code",
   "execution_count": 205,
   "metadata": {},
   "outputs": [
    {
     "data": {
      "text/plain": [
       "0.37099974583251033"
      ]
     },
     "execution_count": 205,
     "metadata": {},
     "output_type": "execute_result"
    }
   ],
   "source": [
    "mse"
   ]
  },
  {
   "cell_type": "code",
   "execution_count": 206,
   "metadata": {},
   "outputs": [],
   "source": [
    "var_score = r2_score(y,y_pred)"
   ]
  },
  {
   "cell_type": "code",
   "execution_count": 208,
   "metadata": {},
   "outputs": [
    {
     "data": {
      "text/plain": [
       "0.9956052867045853"
      ]
     },
     "execution_count": 208,
     "metadata": {},
     "output_type": "execute_result"
    }
   ],
   "source": [
    "var_score"
   ]
  },
  {
   "cell_type": "code",
   "execution_count": null,
   "metadata": {},
   "outputs": [],
   "source": []
  }
 ],
 "metadata": {
  "kernelspec": {
   "display_name": "Python 3",
   "language": "python",
   "name": "python3"
  },
  "language_info": {
   "codemirror_mode": {
    "name": "ipython",
    "version": 3
   },
   "file_extension": ".py",
   "mimetype": "text/x-python",
   "name": "python",
   "nbconvert_exporter": "python",
   "pygments_lexer": "ipython3",
   "version": "3.5.6"
  }
 },
 "nbformat": 4,
 "nbformat_minor": 2
}
